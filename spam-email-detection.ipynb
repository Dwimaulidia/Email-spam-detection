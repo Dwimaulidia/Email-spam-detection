{
 "cells": [
  {
   "cell_type": "markdown",
   "id": "46f5996c",
   "metadata": {
    "papermill": {
     "duration": 0.009124,
     "end_time": "2023-09-26T09:46:22.563592",
     "exception": false,
     "start_time": "2023-09-26T09:46:22.554468",
     "status": "completed"
    },
    "tags": []
   },
   "source": [
    "#  Spam Email Detection"
   ]
  },
  {
   "cell_type": "markdown",
   "id": "6888d49d",
   "metadata": {
    "papermill": {
     "duration": 0.008333,
     "end_time": "2023-09-26T09:46:22.580708",
     "exception": false,
     "start_time": "2023-09-26T09:46:22.572375",
     "status": "completed"
    },
    "tags": []
   },
   "source": [
    "## Import Relevant Libraries"
   ]
  },
  {
   "cell_type": "code",
   "execution_count": 1,
   "id": "a6070c15",
   "metadata": {
    "execution": {
     "iopub.execute_input": "2023-09-26T09:46:22.600242Z",
     "iopub.status.busy": "2023-09-26T09:46:22.599753Z",
     "iopub.status.idle": "2023-09-26T09:46:24.995594Z",
     "shell.execute_reply": "2023-09-26T09:46:24.994441Z"
    },
    "papermill": {
     "duration": 2.409362,
     "end_time": "2023-09-26T09:46:24.998661",
     "exception": false,
     "start_time": "2023-09-26T09:46:22.589299",
     "status": "completed"
    },
    "tags": []
   },
   "outputs": [],
   "source": [
    "#Standard libraries for data analysis:----------------------\n",
    "\n",
    "import numpy as np\n",
    "import matplotlib.pyplot as plt\n",
    "import pandas as pd\n",
    "\n",
    "# sklearn modules for data preprocessing-------------------------------------\n",
    "from sklearn.model_selection import train_test_split\n",
    "from sklearn.naive_bayes import MultinomialNB\n",
    "from sklearn.feature_extraction.text import CountVectorizer\n",
    "\n",
    "#sklearn modules for Model Evaluation & Improvement---------------------------\n",
    "from sklearn.metrics import confusion_matrix, accuracy_score, f1_score, precision_score, recall_score, fbeta_score\n",
    "from statsmodels.stats.outliers_influence import variance_inflation_factor\n",
    "from sklearn.model_selection import cross_val_score, GridSearchCV, ShuffleSplit, KFold\n",
    "\n",
    "# from sklearn import feature_selection\n",
    "from sklearn import model_selection\n",
    "\n",
    "# from sklearn import metrics\n",
    "from sklearn.metrics import classification_report, precision_recall_curve\n",
    "from sklearn.metrics import auc, roc_auc_score, roc_curve\n",
    "from sklearn.metrics import make_scorer, recall_score, log_loss\n",
    "from sklearn.metrics import average_precision_score\n",
    "\n",
    "#Standard libraries for data visualization---------------------\n",
    "import seaborn as sn\n",
    "from matplotlib import pyplot\n",
    "import matplotlib.pyplot as plt\n",
    "import matplotlib.pylab as pylab\n",
    "import matplotlib\n",
    "%matplotlib inline\n",
    "color = sn.color_palette()\n",
    "import matplotlib.ticker as mtick\n",
    "from IPython.display import display\n",
    "pd.options.display.max_columns = None\n",
    "from pandas.plotting import scatter_matrix\n",
    "from sklearn.metrics import roc_curve"
   ]
  },
  {
   "cell_type": "markdown",
   "id": "9c470c85",
   "metadata": {
    "papermill": {
     "duration": 0.008318,
     "end_time": "2023-09-26T09:46:25.015663",
     "exception": false,
     "start_time": "2023-09-26T09:46:25.007345",
     "status": "completed"
    },
    "tags": []
   },
   "source": [
    "## Import Dataset "
   ]
  },
  {
   "cell_type": "code",
   "execution_count": 2,
   "id": "6141a07d",
   "metadata": {
    "execution": {
     "iopub.execute_input": "2023-09-26T09:46:25.035649Z",
     "iopub.status.busy": "2023-09-26T09:46:25.034445Z",
     "iopub.status.idle": "2023-09-26T09:46:25.255082Z",
     "shell.execute_reply": "2023-09-26T09:46:25.254216Z"
    },
    "papermill": {
     "duration": 0.233224,
     "end_time": "2023-09-26T09:46:25.257485",
     "exception": false,
     "start_time": "2023-09-26T09:46:25.024261",
     "status": "completed"
    },
    "tags": []
   },
   "outputs": [
    {
     "data": {
      "text/html": [
       "<div>\n",
       "<style scoped>\n",
       "    .dataframe tbody tr th:only-of-type {\n",
       "        vertical-align: middle;\n",
       "    }\n",
       "\n",
       "    .dataframe tbody tr th {\n",
       "        vertical-align: top;\n",
       "    }\n",
       "\n",
       "    .dataframe thead th {\n",
       "        text-align: right;\n",
       "    }\n",
       "</style>\n",
       "<table border=\"1\" class=\"dataframe\">\n",
       "  <thead>\n",
       "    <tr style=\"text-align: right;\">\n",
       "      <th></th>\n",
       "      <th>text</th>\n",
       "      <th>spam</th>\n",
       "    </tr>\n",
       "  </thead>\n",
       "  <tbody>\n",
       "    <tr>\n",
       "      <th>0</th>\n",
       "      <td>Subject: naturally irresistible your corporate...</td>\n",
       "      <td>1</td>\n",
       "    </tr>\n",
       "    <tr>\n",
       "      <th>1</th>\n",
       "      <td>Subject: the stock trading gunslinger  fanny i...</td>\n",
       "      <td>1</td>\n",
       "    </tr>\n",
       "    <tr>\n",
       "      <th>2</th>\n",
       "      <td>Subject: unbelievable new homes made easy  im ...</td>\n",
       "      <td>1</td>\n",
       "    </tr>\n",
       "    <tr>\n",
       "      <th>3</th>\n",
       "      <td>Subject: 4 color printing special  request add...</td>\n",
       "      <td>1</td>\n",
       "    </tr>\n",
       "    <tr>\n",
       "      <th>4</th>\n",
       "      <td>Subject: do not have money , get software cds ...</td>\n",
       "      <td>1</td>\n",
       "    </tr>\n",
       "    <tr>\n",
       "      <th>...</th>\n",
       "      <td>...</td>\n",
       "      <td>...</td>\n",
       "    </tr>\n",
       "    <tr>\n",
       "      <th>5723</th>\n",
       "      <td>Subject: re : research and development charges...</td>\n",
       "      <td>0</td>\n",
       "    </tr>\n",
       "    <tr>\n",
       "      <th>5724</th>\n",
       "      <td>Subject: re : receipts from visit  jim ,  than...</td>\n",
       "      <td>0</td>\n",
       "    </tr>\n",
       "    <tr>\n",
       "      <th>5725</th>\n",
       "      <td>Subject: re : enron case study update  wow ! a...</td>\n",
       "      <td>0</td>\n",
       "    </tr>\n",
       "    <tr>\n",
       "      <th>5726</th>\n",
       "      <td>Subject: re : interest  david ,  please , call...</td>\n",
       "      <td>0</td>\n",
       "    </tr>\n",
       "    <tr>\n",
       "      <th>5727</th>\n",
       "      <td>Subject: news : aurora 5 . 2 update  aurora ve...</td>\n",
       "      <td>0</td>\n",
       "    </tr>\n",
       "  </tbody>\n",
       "</table>\n",
       "<p>5728 rows × 2 columns</p>\n",
       "</div>"
      ],
      "text/plain": [
       "                                                   text  spam\n",
       "0     Subject: naturally irresistible your corporate...     1\n",
       "1     Subject: the stock trading gunslinger  fanny i...     1\n",
       "2     Subject: unbelievable new homes made easy  im ...     1\n",
       "3     Subject: 4 color printing special  request add...     1\n",
       "4     Subject: do not have money , get software cds ...     1\n",
       "...                                                 ...   ...\n",
       "5723  Subject: re : research and development charges...     0\n",
       "5724  Subject: re : receipts from visit  jim ,  than...     0\n",
       "5725  Subject: re : enron case study update  wow ! a...     0\n",
       "5726  Subject: re : interest  david ,  please , call...     0\n",
       "5727  Subject: news : aurora 5 . 2 update  aurora ve...     0\n",
       "\n",
       "[5728 rows x 2 columns]"
      ]
     },
     "execution_count": 2,
     "metadata": {},
     "output_type": "execute_result"
    }
   ],
   "source": [
    "df = pd.read_csv(\"/kaggle/input/spam-email-dataset/emails.csv\")\n",
    "df"
   ]
  },
  {
   "cell_type": "markdown",
   "id": "ac37f755",
   "metadata": {
    "papermill": {
     "duration": 0.008754,
     "end_time": "2023-09-26T09:46:25.275485",
     "exception": false,
     "start_time": "2023-09-26T09:46:25.266731",
     "status": "completed"
    },
    "tags": []
   },
   "source": [
    "## Exploratory Data Analysis"
   ]
  },
  {
   "cell_type": "code",
   "execution_count": 3,
   "id": "f9820f35",
   "metadata": {
    "execution": {
     "iopub.execute_input": "2023-09-26T09:46:25.295699Z",
     "iopub.status.busy": "2023-09-26T09:46:25.294968Z",
     "iopub.status.idle": "2023-09-26T09:46:25.304400Z",
     "shell.execute_reply": "2023-09-26T09:46:25.303200Z"
    },
    "papermill": {
     "duration": 0.022373,
     "end_time": "2023-09-26T09:46:25.306824",
     "exception": false,
     "start_time": "2023-09-26T09:46:25.284451",
     "status": "completed"
    },
    "tags": []
   },
   "outputs": [
    {
     "data": {
      "text/plain": [
       "<bound method DataFrame.info of                                                    text  spam\n",
       "0     Subject: naturally irresistible your corporate...     1\n",
       "1     Subject: the stock trading gunslinger  fanny i...     1\n",
       "2     Subject: unbelievable new homes made easy  im ...     1\n",
       "3     Subject: 4 color printing special  request add...     1\n",
       "4     Subject: do not have money , get software cds ...     1\n",
       "...                                                 ...   ...\n",
       "5723  Subject: re : research and development charges...     0\n",
       "5724  Subject: re : receipts from visit  jim ,  than...     0\n",
       "5725  Subject: re : enron case study update  wow ! a...     0\n",
       "5726  Subject: re : interest  david ,  please , call...     0\n",
       "5727  Subject: news : aurora 5 . 2 update  aurora ve...     0\n",
       "\n",
       "[5728 rows x 2 columns]>"
      ]
     },
     "execution_count": 3,
     "metadata": {},
     "output_type": "execute_result"
    }
   ],
   "source": [
    "df.info"
   ]
  },
  {
   "cell_type": "code",
   "execution_count": 4,
   "id": "dce21ea9",
   "metadata": {
    "execution": {
     "iopub.execute_input": "2023-09-26T09:46:25.327917Z",
     "iopub.status.busy": "2023-09-26T09:46:25.326786Z",
     "iopub.status.idle": "2023-09-26T09:46:25.334264Z",
     "shell.execute_reply": "2023-09-26T09:46:25.333444Z"
    },
    "papermill": {
     "duration": 0.020049,
     "end_time": "2023-09-26T09:46:25.336408",
     "exception": false,
     "start_time": "2023-09-26T09:46:25.316359",
     "status": "completed"
    },
    "tags": []
   },
   "outputs": [
    {
     "data": {
      "text/plain": [
       "text    object\n",
       "spam     int64\n",
       "dtype: object"
      ]
     },
     "execution_count": 4,
     "metadata": {},
     "output_type": "execute_result"
    }
   ],
   "source": [
    "df.dtypes"
   ]
  },
  {
   "cell_type": "code",
   "execution_count": 5,
   "id": "7accd0b9",
   "metadata": {
    "execution": {
     "iopub.execute_input": "2023-09-26T09:46:25.357480Z",
     "iopub.status.busy": "2023-09-26T09:46:25.356546Z",
     "iopub.status.idle": "2023-09-26T09:46:25.369646Z",
     "shell.execute_reply": "2023-09-26T09:46:25.368272Z"
    },
    "papermill": {
     "duration": 0.026601,
     "end_time": "2023-09-26T09:46:25.372362",
     "exception": false,
     "start_time": "2023-09-26T09:46:25.345761",
     "status": "completed"
    },
    "tags": []
   },
   "outputs": [
    {
     "data": {
      "text/plain": [
       "text    0\n",
       "spam    0\n",
       "dtype: int64"
      ]
     },
     "execution_count": 5,
     "metadata": {},
     "output_type": "execute_result"
    }
   ],
   "source": [
    "df.isna().sum()"
   ]
  },
  {
   "cell_type": "code",
   "execution_count": 6,
   "id": "437a641f",
   "metadata": {
    "execution": {
     "iopub.execute_input": "2023-09-26T09:46:25.393982Z",
     "iopub.status.busy": "2023-09-26T09:46:25.393244Z",
     "iopub.status.idle": "2023-09-26T09:46:25.432377Z",
     "shell.execute_reply": "2023-09-26T09:46:25.431227Z"
    },
    "papermill": {
     "duration": 0.052838,
     "end_time": "2023-09-26T09:46:25.434756",
     "exception": false,
     "start_time": "2023-09-26T09:46:25.381918",
     "status": "completed"
    },
    "tags": []
   },
   "outputs": [
    {
     "data": {
      "text/plain": [
       "33"
      ]
     },
     "execution_count": 6,
     "metadata": {},
     "output_type": "execute_result"
    }
   ],
   "source": [
    "df.duplicated().sum()"
   ]
  },
  {
   "cell_type": "code",
   "execution_count": 7,
   "id": "4dcf9557",
   "metadata": {
    "execution": {
     "iopub.execute_input": "2023-09-26T09:46:25.456454Z",
     "iopub.status.busy": "2023-09-26T09:46:25.456039Z",
     "iopub.status.idle": "2023-09-26T09:46:25.487937Z",
     "shell.execute_reply": "2023-09-26T09:46:25.487033Z"
    },
    "papermill": {
     "duration": 0.045895,
     "end_time": "2023-09-26T09:46:25.490411",
     "exception": false,
     "start_time": "2023-09-26T09:46:25.444516",
     "status": "completed"
    },
    "tags": []
   },
   "outputs": [],
   "source": [
    "# drop duplicate\n",
    "df.drop_duplicates(inplace=True)"
   ]
  },
  {
   "cell_type": "code",
   "execution_count": 8,
   "id": "698bd46f",
   "metadata": {
    "execution": {
     "iopub.execute_input": "2023-09-26T09:46:25.512183Z",
     "iopub.status.busy": "2023-09-26T09:46:25.511724Z",
     "iopub.status.idle": "2023-09-26T09:46:25.521092Z",
     "shell.execute_reply": "2023-09-26T09:46:25.520140Z"
    },
    "papermill": {
     "duration": 0.023195,
     "end_time": "2023-09-26T09:46:25.523499",
     "exception": false,
     "start_time": "2023-09-26T09:46:25.500304",
     "status": "completed"
    },
    "tags": []
   },
   "outputs": [
    {
     "data": {
      "text/plain": [
       "spam\n",
       "0    4327\n",
       "1    1368\n",
       "Name: count, dtype: int64"
      ]
     },
     "execution_count": 8,
     "metadata": {},
     "output_type": "execute_result"
    }
   ],
   "source": [
    "# Check Target Variable Distribution \n",
    "df[\"spam\"].value_counts()"
   ]
  },
  {
   "cell_type": "markdown",
   "id": "4f26da33",
   "metadata": {
    "papermill": {
     "duration": 0.009558,
     "end_time": "2023-09-26T09:46:25.543128",
     "exception": false,
     "start_time": "2023-09-26T09:46:25.533570",
     "status": "completed"
    },
    "tags": []
   },
   "source": [
    "In this case, we have class imbalance with few positives. \n",
    "In our business challenge, false negatives are costly. \n",
    "Hence let's keep an eye onto the Precision, Recall & F2 score besides accuracy"
   ]
  },
  {
   "cell_type": "markdown",
   "id": "dc504136",
   "metadata": {
    "papermill": {
     "duration": 0.009731,
     "end_time": "2023-09-26T09:46:25.562666",
     "exception": false,
     "start_time": "2023-09-26T09:46:25.552935",
     "status": "completed"
    },
    "tags": []
   },
   "source": [
    "## Handling Text Data"
   ]
  },
  {
   "cell_type": "code",
   "execution_count": 9,
   "id": "35c87884",
   "metadata": {
    "execution": {
     "iopub.execute_input": "2023-09-26T09:46:25.584245Z",
     "iopub.status.busy": "2023-09-26T09:46:25.583799Z",
     "iopub.status.idle": "2023-09-26T09:46:26.181633Z",
     "shell.execute_reply": "2023-09-26T09:46:26.180385Z"
    },
    "papermill": {
     "duration": 0.612027,
     "end_time": "2023-09-26T09:46:26.184627",
     "exception": false,
     "start_time": "2023-09-26T09:46:25.572600",
     "status": "completed"
    },
    "tags": []
   },
   "outputs": [],
   "source": [
    "# clean the text\n",
    "from nltk.corpus import stopwords\n",
    "from nltk.tokenize import word_tokenize\n",
    "import re"
   ]
  },
  {
   "cell_type": "code",
   "execution_count": 10,
   "id": "115f130a",
   "metadata": {
    "execution": {
     "iopub.execute_input": "2023-09-26T09:46:26.206462Z",
     "iopub.status.busy": "2023-09-26T09:46:26.206050Z",
     "iopub.status.idle": "2023-09-26T09:46:26.230005Z",
     "shell.execute_reply": "2023-09-26T09:46:26.228897Z"
    },
    "papermill": {
     "duration": 0.038054,
     "end_time": "2023-09-26T09:46:26.232578",
     "exception": false,
     "start_time": "2023-09-26T09:46:26.194524",
     "status": "completed"
    },
    "tags": []
   },
   "outputs": [
    {
     "data": {
      "text/plain": [
       "'data clean'"
      ]
     },
     "execution_count": 10,
     "metadata": {},
     "output_type": "execute_result"
    }
   ],
   "source": [
    "def clean_text(text):\n",
    "    text=text.lower() \n",
    "    text=re.sub('[^a-z]',' ',text) \n",
    "    text=re.sub('subject',' ',text)\n",
    "    text=word_tokenize(text)\n",
    "    text=[word for word in text if len(word)>1]\n",
    "    return ' '.join(text)\n",
    "clean_text('Data clean')"
   ]
  },
  {
   "cell_type": "code",
   "execution_count": 11,
   "id": "6b7a8d85",
   "metadata": {
    "execution": {
     "iopub.execute_input": "2023-09-26T09:46:26.254686Z",
     "iopub.status.busy": "2023-09-26T09:46:26.254002Z",
     "iopub.status.idle": "2023-09-26T09:46:41.228315Z",
     "shell.execute_reply": "2023-09-26T09:46:41.227246Z"
    },
    "papermill": {
     "duration": 14.988597,
     "end_time": "2023-09-26T09:46:41.231133",
     "exception": false,
     "start_time": "2023-09-26T09:46:26.242536",
     "status": "completed"
    },
    "tags": []
   },
   "outputs": [],
   "source": [
    "df['text']=df['text'].apply(clean_text)"
   ]
  },
  {
   "cell_type": "code",
   "execution_count": 12,
   "id": "2b2b69e2",
   "metadata": {
    "execution": {
     "iopub.execute_input": "2023-09-26T09:46:41.252985Z",
     "iopub.status.busy": "2023-09-26T09:46:41.252600Z",
     "iopub.status.idle": "2023-09-26T09:46:41.264736Z",
     "shell.execute_reply": "2023-09-26T09:46:41.263728Z"
    },
    "papermill": {
     "duration": 0.025772,
     "end_time": "2023-09-26T09:46:41.267107",
     "exception": false,
     "start_time": "2023-09-26T09:46:41.241335",
     "status": "completed"
    },
    "tags": []
   },
   "outputs": [
    {
     "data": {
      "text/html": [
       "<div>\n",
       "<style scoped>\n",
       "    .dataframe tbody tr th:only-of-type {\n",
       "        vertical-align: middle;\n",
       "    }\n",
       "\n",
       "    .dataframe tbody tr th {\n",
       "        vertical-align: top;\n",
       "    }\n",
       "\n",
       "    .dataframe thead th {\n",
       "        text-align: right;\n",
       "    }\n",
       "</style>\n",
       "<table border=\"1\" class=\"dataframe\">\n",
       "  <thead>\n",
       "    <tr style=\"text-align: right;\">\n",
       "      <th></th>\n",
       "      <th>text</th>\n",
       "      <th>spam</th>\n",
       "    </tr>\n",
       "  </thead>\n",
       "  <tbody>\n",
       "    <tr>\n",
       "      <th>0</th>\n",
       "      <td>naturally irresistible your corporate identity...</td>\n",
       "      <td>1</td>\n",
       "    </tr>\n",
       "    <tr>\n",
       "      <th>1</th>\n",
       "      <td>the stock trading gunslinger fanny is merrill ...</td>\n",
       "      <td>1</td>\n",
       "    </tr>\n",
       "    <tr>\n",
       "      <th>2</th>\n",
       "      <td>unbelievable new homes made easy im wanting to...</td>\n",
       "      <td>1</td>\n",
       "    </tr>\n",
       "    <tr>\n",
       "      <th>3</th>\n",
       "      <td>color printing special request additional info...</td>\n",
       "      <td>1</td>\n",
       "    </tr>\n",
       "    <tr>\n",
       "      <th>4</th>\n",
       "      <td>do not have money get software cds from here s...</td>\n",
       "      <td>1</td>\n",
       "    </tr>\n",
       "    <tr>\n",
       "      <th>...</th>\n",
       "      <td>...</td>\n",
       "      <td>...</td>\n",
       "    </tr>\n",
       "    <tr>\n",
       "      <th>5723</th>\n",
       "      <td>re research and development charges to gpg her...</td>\n",
       "      <td>0</td>\n",
       "    </tr>\n",
       "    <tr>\n",
       "      <th>5724</th>\n",
       "      <td>re receipts from visit jim thanks again for th...</td>\n",
       "      <td>0</td>\n",
       "    </tr>\n",
       "    <tr>\n",
       "      <th>5725</th>\n",
       "      <td>re enron case study update wow all on the same...</td>\n",
       "      <td>0</td>\n",
       "    </tr>\n",
       "    <tr>\n",
       "      <th>5726</th>\n",
       "      <td>re interest david please call shirley crenshaw...</td>\n",
       "      <td>0</td>\n",
       "    </tr>\n",
       "    <tr>\n",
       "      <th>5727</th>\n",
       "      <td>news aurora update aurora version the fastest ...</td>\n",
       "      <td>0</td>\n",
       "    </tr>\n",
       "  </tbody>\n",
       "</table>\n",
       "<p>5695 rows × 2 columns</p>\n",
       "</div>"
      ],
      "text/plain": [
       "                                                   text  spam\n",
       "0     naturally irresistible your corporate identity...     1\n",
       "1     the stock trading gunslinger fanny is merrill ...     1\n",
       "2     unbelievable new homes made easy im wanting to...     1\n",
       "3     color printing special request additional info...     1\n",
       "4     do not have money get software cds from here s...     1\n",
       "...                                                 ...   ...\n",
       "5723  re research and development charges to gpg her...     0\n",
       "5724  re receipts from visit jim thanks again for th...     0\n",
       "5725  re enron case study update wow all on the same...     0\n",
       "5726  re interest david please call shirley crenshaw...     0\n",
       "5727  news aurora update aurora version the fastest ...     0\n",
       "\n",
       "[5695 rows x 2 columns]"
      ]
     },
     "execution_count": 12,
     "metadata": {},
     "output_type": "execute_result"
    }
   ],
   "source": [
    "df"
   ]
  },
  {
   "cell_type": "markdown",
   "id": "025bdcf5",
   "metadata": {
    "papermill": {
     "duration": 0.010022,
     "end_time": "2023-09-26T09:46:41.287259",
     "exception": false,
     "start_time": "2023-09-26T09:46:41.277237",
     "status": "completed"
    },
    "tags": []
   },
   "source": [
    "## Data Prepocessing"
   ]
  },
  {
   "cell_type": "code",
   "execution_count": 13,
   "id": "9f5d3a86",
   "metadata": {
    "execution": {
     "iopub.execute_input": "2023-09-26T09:46:41.309686Z",
     "iopub.status.busy": "2023-09-26T09:46:41.309273Z",
     "iopub.status.idle": "2023-09-26T09:46:43.895031Z",
     "shell.execute_reply": "2023-09-26T09:46:43.893794Z"
    },
    "papermill": {
     "duration": 2.600267,
     "end_time": "2023-09-26T09:46:43.897778",
     "exception": false,
     "start_time": "2023-09-26T09:46:41.297511",
     "status": "completed"
    },
    "tags": []
   },
   "outputs": [],
   "source": [
    "cv = CountVectorizer()\n",
    "X = cv.fit_transform(df['text']).toarray()\n",
    "y = df['spam'] "
   ]
  },
  {
   "cell_type": "code",
   "execution_count": 14,
   "id": "62624832",
   "metadata": {
    "execution": {
     "iopub.execute_input": "2023-09-26T09:46:43.920852Z",
     "iopub.status.busy": "2023-09-26T09:46:43.919885Z",
     "iopub.status.idle": "2023-09-26T09:46:45.053449Z",
     "shell.execute_reply": "2023-09-26T09:46:45.052032Z"
    },
    "papermill": {
     "duration": 1.14805,
     "end_time": "2023-09-26T09:46:45.056116",
     "exception": false,
     "start_time": "2023-09-26T09:46:43.908066",
     "status": "completed"
    },
    "tags": []
   },
   "outputs": [
    {
     "name": "stdout",
     "output_type": "stream",
     "text": [
      "Number transactions X_train dataset:  (4556, 33681)\n",
      "Number transactions y_train dataset:  (4556,)\n",
      "Number transactions X_test dataset:  (1139, 33681)\n",
      "Number transactions y_test dataset:  (1139,)\n"
     ]
    }
   ],
   "source": [
    "X_train, X_test, y_train, y_test = train_test_split(X, y,stratify=y, test_size=0.2, random_state=0)\n",
    "\n",
    "#to resolve any class imbalance - use stratify parameter.\n",
    "print(\"Number transactions X_train dataset: \", X_train.shape)\n",
    "print(\"Number transactions y_train dataset: \", y_train.shape)\n",
    "print(\"Number transactions X_test dataset: \", X_test.shape)\n",
    "print(\"Number transactions y_test dataset: \", y_test.shape)"
   ]
  },
  {
   "cell_type": "markdown",
   "id": "97d568c9",
   "metadata": {
    "papermill": {
     "duration": 0.009891,
     "end_time": "2023-09-26T09:46:45.076614",
     "exception": false,
     "start_time": "2023-09-26T09:46:45.066723",
     "status": "completed"
    },
    "tags": []
   },
   "source": [
    "## Modelling "
   ]
  },
  {
   "cell_type": "code",
   "execution_count": 15,
   "id": "b1338079",
   "metadata": {
    "execution": {
     "iopub.execute_input": "2023-09-26T09:46:45.098991Z",
     "iopub.status.busy": "2023-09-26T09:46:45.098595Z",
     "iopub.status.idle": "2023-09-26T09:46:45.104143Z",
     "shell.execute_reply": "2023-09-26T09:46:45.102858Z"
    },
    "papermill": {
     "duration": 0.01963,
     "end_time": "2023-09-26T09:46:45.106637",
     "exception": false,
     "start_time": "2023-09-26T09:46:45.087007",
     "status": "completed"
    },
    "tags": []
   },
   "outputs": [],
   "source": [
    "model=MultinomialNB()"
   ]
  },
  {
   "cell_type": "code",
   "execution_count": 16,
   "id": "6fcda25b",
   "metadata": {
    "execution": {
     "iopub.execute_input": "2023-09-26T09:46:45.130569Z",
     "iopub.status.busy": "2023-09-26T09:46:45.130161Z",
     "iopub.status.idle": "2023-09-26T09:46:47.763536Z",
     "shell.execute_reply": "2023-09-26T09:46:47.762262Z"
    },
    "papermill": {
     "duration": 2.648226,
     "end_time": "2023-09-26T09:46:47.766441",
     "exception": false,
     "start_time": "2023-09-26T09:46:45.118215",
     "status": "completed"
    },
    "tags": []
   },
   "outputs": [
    {
     "data": {
      "text/html": [
       "<style>#sk-container-id-1 {color: black;background-color: white;}#sk-container-id-1 pre{padding: 0;}#sk-container-id-1 div.sk-toggleable {background-color: white;}#sk-container-id-1 label.sk-toggleable__label {cursor: pointer;display: block;width: 100%;margin-bottom: 0;padding: 0.3em;box-sizing: border-box;text-align: center;}#sk-container-id-1 label.sk-toggleable__label-arrow:before {content: \"▸\";float: left;margin-right: 0.25em;color: #696969;}#sk-container-id-1 label.sk-toggleable__label-arrow:hover:before {color: black;}#sk-container-id-1 div.sk-estimator:hover label.sk-toggleable__label-arrow:before {color: black;}#sk-container-id-1 div.sk-toggleable__content {max-height: 0;max-width: 0;overflow: hidden;text-align: left;background-color: #f0f8ff;}#sk-container-id-1 div.sk-toggleable__content pre {margin: 0.2em;color: black;border-radius: 0.25em;background-color: #f0f8ff;}#sk-container-id-1 input.sk-toggleable__control:checked~div.sk-toggleable__content {max-height: 200px;max-width: 100%;overflow: auto;}#sk-container-id-1 input.sk-toggleable__control:checked~label.sk-toggleable__label-arrow:before {content: \"▾\";}#sk-container-id-1 div.sk-estimator input.sk-toggleable__control:checked~label.sk-toggleable__label {background-color: #d4ebff;}#sk-container-id-1 div.sk-label input.sk-toggleable__control:checked~label.sk-toggleable__label {background-color: #d4ebff;}#sk-container-id-1 input.sk-hidden--visually {border: 0;clip: rect(1px 1px 1px 1px);clip: rect(1px, 1px, 1px, 1px);height: 1px;margin: -1px;overflow: hidden;padding: 0;position: absolute;width: 1px;}#sk-container-id-1 div.sk-estimator {font-family: monospace;background-color: #f0f8ff;border: 1px dotted black;border-radius: 0.25em;box-sizing: border-box;margin-bottom: 0.5em;}#sk-container-id-1 div.sk-estimator:hover {background-color: #d4ebff;}#sk-container-id-1 div.sk-parallel-item::after {content: \"\";width: 100%;border-bottom: 1px solid gray;flex-grow: 1;}#sk-container-id-1 div.sk-label:hover label.sk-toggleable__label {background-color: #d4ebff;}#sk-container-id-1 div.sk-serial::before {content: \"\";position: absolute;border-left: 1px solid gray;box-sizing: border-box;top: 0;bottom: 0;left: 50%;z-index: 0;}#sk-container-id-1 div.sk-serial {display: flex;flex-direction: column;align-items: center;background-color: white;padding-right: 0.2em;padding-left: 0.2em;position: relative;}#sk-container-id-1 div.sk-item {position: relative;z-index: 1;}#sk-container-id-1 div.sk-parallel {display: flex;align-items: stretch;justify-content: center;background-color: white;position: relative;}#sk-container-id-1 div.sk-item::before, #sk-container-id-1 div.sk-parallel-item::before {content: \"\";position: absolute;border-left: 1px solid gray;box-sizing: border-box;top: 0;bottom: 0;left: 50%;z-index: -1;}#sk-container-id-1 div.sk-parallel-item {display: flex;flex-direction: column;z-index: 1;position: relative;background-color: white;}#sk-container-id-1 div.sk-parallel-item:first-child::after {align-self: flex-end;width: 50%;}#sk-container-id-1 div.sk-parallel-item:last-child::after {align-self: flex-start;width: 50%;}#sk-container-id-1 div.sk-parallel-item:only-child::after {width: 0;}#sk-container-id-1 div.sk-dashed-wrapped {border: 1px dashed gray;margin: 0 0.4em 0.5em 0.4em;box-sizing: border-box;padding-bottom: 0.4em;background-color: white;}#sk-container-id-1 div.sk-label label {font-family: monospace;font-weight: bold;display: inline-block;line-height: 1.2em;}#sk-container-id-1 div.sk-label-container {text-align: center;}#sk-container-id-1 div.sk-container {/* jupyter's `normalize.less` sets `[hidden] { display: none; }` but bootstrap.min.css set `[hidden] { display: none !important; }` so we also need the `!important` here to be able to override the default hidden behavior on the sphinx rendered scikit-learn.org. See: https://github.com/scikit-learn/scikit-learn/issues/21755 */display: inline-block !important;position: relative;}#sk-container-id-1 div.sk-text-repr-fallback {display: none;}</style><div id=\"sk-container-id-1\" class=\"sk-top-container\"><div class=\"sk-text-repr-fallback\"><pre>MultinomialNB()</pre><b>In a Jupyter environment, please rerun this cell to show the HTML representation or trust the notebook. <br />On GitHub, the HTML representation is unable to render, please try loading this page with nbviewer.org.</b></div><div class=\"sk-container\" hidden><div class=\"sk-item\"><div class=\"sk-estimator sk-toggleable\"><input class=\"sk-toggleable__control sk-hidden--visually\" id=\"sk-estimator-id-1\" type=\"checkbox\" checked><label for=\"sk-estimator-id-1\" class=\"sk-toggleable__label sk-toggleable__label-arrow\">MultinomialNB</label><div class=\"sk-toggleable__content\"><pre>MultinomialNB()</pre></div></div></div></div></div>"
      ],
      "text/plain": [
       "MultinomialNB()"
      ]
     },
     "execution_count": 16,
     "metadata": {},
     "output_type": "execute_result"
    }
   ],
   "source": [
    "model.fit(X_train,y_train)"
   ]
  },
  {
   "cell_type": "code",
   "execution_count": 17,
   "id": "de52e2c1",
   "metadata": {
    "execution": {
     "iopub.execute_input": "2023-09-26T09:46:47.790743Z",
     "iopub.status.busy": "2023-09-26T09:46:47.789790Z",
     "iopub.status.idle": "2023-09-26T09:46:48.046636Z",
     "shell.execute_reply": "2023-09-26T09:46:48.044997Z"
    },
    "papermill": {
     "duration": 0.27326,
     "end_time": "2023-09-26T09:46:48.050983",
     "exception": false,
     "start_time": "2023-09-26T09:46:47.777723",
     "status": "completed"
    },
    "tags": []
   },
   "outputs": [],
   "source": [
    "y_pred=model.predict(X_test)"
   ]
  },
  {
   "cell_type": "code",
   "execution_count": 18,
   "id": "f6765508",
   "metadata": {
    "execution": {
     "iopub.execute_input": "2023-09-26T09:46:48.098350Z",
     "iopub.status.busy": "2023-09-26T09:46:48.097616Z",
     "iopub.status.idle": "2023-09-26T09:46:49.312387Z",
     "shell.execute_reply": "2023-09-26T09:46:49.308781Z"
    },
    "papermill": {
     "duration": 1.243485,
     "end_time": "2023-09-26T09:46:49.316688",
     "exception": false,
     "start_time": "2023-09-26T09:46:48.073203",
     "status": "completed"
    },
    "tags": []
   },
   "outputs": [
    {
     "name": "stdout",
     "output_type": "stream",
     "text": [
      "0.9958296751536435\n",
      "0.990342405618964\n"
     ]
    }
   ],
   "source": [
    "print(model.score(X_train, y_train))\n",
    "print( model.score(X_test, y_test) )"
   ]
  },
  {
   "cell_type": "code",
   "execution_count": 19,
   "id": "81dfcc9e",
   "metadata": {
    "execution": {
     "iopub.execute_input": "2023-09-26T09:46:49.365783Z",
     "iopub.status.busy": "2023-09-26T09:46:49.365031Z",
     "iopub.status.idle": "2023-09-26T09:46:49.377945Z",
     "shell.execute_reply": "2023-09-26T09:46:49.376629Z"
    },
    "papermill": {
     "duration": 0.041975,
     "end_time": "2023-09-26T09:46:49.381910",
     "exception": false,
     "start_time": "2023-09-26T09:46:49.339935",
     "status": "completed"
    },
    "tags": []
   },
   "outputs": [
    {
     "data": {
      "text/plain": [
       "array([[855,  10],\n",
       "       [  1, 273]])"
      ]
     },
     "execution_count": 19,
     "metadata": {},
     "output_type": "execute_result"
    }
   ],
   "source": [
    "confusion_matrix(y_test, y_pred)"
   ]
  },
  {
   "cell_type": "code",
   "execution_count": 20,
   "id": "194c12c3",
   "metadata": {
    "execution": {
     "iopub.execute_input": "2023-09-26T09:46:49.424233Z",
     "iopub.status.busy": "2023-09-26T09:46:49.423790Z",
     "iopub.status.idle": "2023-09-26T09:46:49.440522Z",
     "shell.execute_reply": "2023-09-26T09:46:49.439024Z"
    },
    "papermill": {
     "duration": 0.037633,
     "end_time": "2023-09-26T09:46:49.443071",
     "exception": false,
     "start_time": "2023-09-26T09:46:49.405438",
     "status": "completed"
    },
    "tags": []
   },
   "outputs": [
    {
     "name": "stdout",
     "output_type": "stream",
     "text": [
      "              precision    recall  f1-score   support\n",
      "\n",
      "           0       1.00      0.99      0.99       865\n",
      "           1       0.96      1.00      0.98       274\n",
      "\n",
      "    accuracy                           0.99      1139\n",
      "   macro avg       0.98      0.99      0.99      1139\n",
      "weighted avg       0.99      0.99      0.99      1139\n",
      "\n"
     ]
    }
   ],
   "source": [
    "print(classification_report(y_test, y_pred))"
   ]
  }
 ],
 "metadata": {
  "kernelspec": {
   "display_name": "Python 3",
   "language": "python",
   "name": "python3"
  },
  "language_info": {
   "codemirror_mode": {
    "name": "ipython",
    "version": 3
   },
   "file_extension": ".py",
   "mimetype": "text/x-python",
   "name": "python",
   "nbconvert_exporter": "python",
   "pygments_lexer": "ipython3",
   "version": "3.10.12"
  },
  "papermill": {
   "default_parameters": {},
   "duration": 31.358647,
   "end_time": "2023-09-26T09:46:50.275907",
   "environment_variables": {},
   "exception": null,
   "input_path": "__notebook__.ipynb",
   "output_path": "__notebook__.ipynb",
   "parameters": {},
   "start_time": "2023-09-26T09:46:18.917260",
   "version": "2.4.0"
  }
 },
 "nbformat": 4,
 "nbformat_minor": 5
}
